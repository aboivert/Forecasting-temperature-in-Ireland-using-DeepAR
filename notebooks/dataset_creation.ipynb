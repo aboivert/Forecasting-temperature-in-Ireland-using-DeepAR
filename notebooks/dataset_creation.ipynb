{
 "cells": [
  {
   "cell_type": "markdown",
   "id": "6599c44e",
   "metadata": {
    "pycharm": {
     "name": "#%% md\n"
    }
   },
   "source": [
    "This notebook is about creating the final dataset we'll use to forecast. To do so, we use the dataset Hourly Weather Data in Ireland (from 24 stations), from Daria Vasileva, available here : https://www.kaggle.com/datasets/dariasvasileva/hourly-weather-data-in-ireland-from-24-stations.\n",
    "\n",
    "We will operate various transformations to get a final dataset containing temp, wetb, dewpt, vappr and rhum for each stations daily (we take the data at the hour 12 and only the 1000 most recent values). We will also add series_idx and time_idx to make it ready for DeepAR forecasting using pytorch_forecasting."
   ]
  },
  {
   "cell_type": "code",
   "execution_count": 161,
   "id": "f6b9842e",
   "metadata": {
    "pycharm": {
     "name": "#%%\n"
    }
   },
   "outputs": [],
   "source": [
    "import numpy as np\n",
    "import pandas as pd"
   ]
  },
  {
   "cell_type": "code",
   "execution_count": 162,
   "id": "1d875b88",
   "metadata": {
    "pycharm": {
     "name": "#%%\n"
    }
   },
   "outputs": [],
   "source": [
    "def import_df(name):\n",
    "    \"\"\"\n",
    "    This function is used to import a dataframe.\n",
    "    \"\"\"\n",
    "    return pd.read_csv(name).dropna()"
   ]
  },
  {
   "cell_type": "code",
   "execution_count": 163,
   "id": "96568fc1",
   "metadata": {
    "pycharm": {
     "name": "#%%\n"
    }
   },
   "outputs": [],
   "source": [
    "def convert_to_dt(df):\n",
    "    \"\"\"\n",
    "    This function is used to convert the date column to DateTime type.\n",
    "    \"\"\"\n",
    "    df.date = pd.to_datetime(df.date)\n",
    "    return df"
   ]
  },
  {
   "cell_type": "code",
   "execution_count": 164,
   "id": "46938c35",
   "metadata": {
    "pycharm": {
     "name": "#%%\n"
    }
   },
   "outputs": [],
   "source": [
    "def features_df(df):\n",
    "    \"\"\"\n",
    "    This function is used to take only needed features.\n",
    "    \"\"\"\n",
    "    return df[[\"date\",\"temp\",\"wetb\",\"dewpt\",\"vappr\",\"rhum\"]]"
   ]
  },
  {
   "cell_type": "code",
   "execution_count": 165,
   "id": "5ce22159",
   "metadata": {
    "pycharm": {
     "name": "#%%\n"
    }
   },
   "outputs": [],
   "source": [
    "def hourly_df(df):\n",
    "    \"\"\"\n",
    "    This function is used to take only dates where the hour is equal to 12.\n",
    "    \"\"\"\n",
    "    return df[df['date'].dt.hour == 12]"
   ]
  },
  {
   "cell_type": "code",
   "execution_count": 166,
   "id": "001f1513",
   "metadata": {
    "pycharm": {
     "name": "#%%\n"
    }
   },
   "outputs": [],
   "source": [
    "def dataframe_creation(name):\n",
    "    \"\"\"\n",
    "    This function is used to create a station dataframe.\n",
    "    \"\"\"\n",
    "    return(hourly_df(features_df(convert_to_dt(import_df(name))))[-1000:])"
   ]
  },
  {
   "cell_type": "code",
   "execution_count": 167,
   "id": "17a27b5a",
   "metadata": {
    "pycharm": {
     "name": "#%%\n"
    }
   },
   "outputs": [],
   "source": [
    "stations = {'phoenix_park':'175', 'mace_head' : '275', 'oak_park':'375','shannon_airport':'518','dublin_airport':'532','moore_park':'575','ballyhaise':'675','sherkinisland':'775','mullingar':'875','roches_point':'1075','newport':'1175','markree':'1275','dunsany':'1375','gurteen':'1475','malin_head':'1575','johnstownii':'1775','mt_dillon':'1975','finner':'2075','claremorris':'2175','valentia_observatory':'2275','belmullet':'2375','casement':'3723','cork_airport':'3904','knock_airport':'4935'}"
   ]
  },
  {
   "cell_type": "code",
   "execution_count": 168,
   "id": "9c781469",
   "metadata": {
    "pycharm": {
     "name": "#%%\n"
    }
   },
   "outputs": [],
   "source": [
    "def big_df(list_of_stations):\n",
    "    \"\"\"\n",
    "    This function is used to create the final dataframe.\n",
    "    \"\"\"\n",
    "    final_df = pd.DataFrame()\n",
    "    cpt=0\n",
    "    for i in stations.keys():\n",
    "        temp_df = dataframe_creation(\"stations/\"+stations[i]+\"_\"+i+\".csv\")\n",
    "        temp_df['station'] = i\n",
    "        temp_df['series_idx'] = cpt\n",
    "        cpt+=1\n",
    "        temp_df['time_idx'] = np.arange(len(temp_df))\n",
    "        final_df = pd.concat([final_df, temp_df])\n",
    "    return final_df.reset_index(drop = True)"
   ]
  },
  {
   "cell_type": "code",
   "execution_count": 158,
   "id": "194cfbcf",
   "metadata": {
    "pycharm": {
     "name": "#%%\n"
    }
   },
   "outputs": [
    {
     "data": {
      "text/html": [
       "<div>\n",
       "<style scoped>\n",
       "    .dataframe tbody tr th:only-of-type {\n",
       "        vertical-align: middle;\n",
       "    }\n",
       "\n",
       "    .dataframe tbody tr th {\n",
       "        vertical-align: top;\n",
       "    }\n",
       "\n",
       "    .dataframe thead th {\n",
       "        text-align: right;\n",
       "    }\n",
       "</style>\n",
       "<table border=\"1\" class=\"dataframe\">\n",
       "  <thead>\n",
       "    <tr style=\"text-align: right;\">\n",
       "      <th></th>\n",
       "      <th>date</th>\n",
       "      <th>temp</th>\n",
       "      <th>wetb</th>\n",
       "      <th>dewpt</th>\n",
       "      <th>vappr</th>\n",
       "      <th>rhum</th>\n",
       "      <th>station</th>\n",
       "      <th>series_idx</th>\n",
       "      <th>time_idx</th>\n",
       "    </tr>\n",
       "  </thead>\n",
       "  <tbody>\n",
       "    <tr>\n",
       "      <th>0</th>\n",
       "      <td>2019-05-08 12:00:00</td>\n",
       "      <td>7.9</td>\n",
       "      <td>6.7</td>\n",
       "      <td>5.3</td>\n",
       "      <td>8.9</td>\n",
       "      <td>83.0</td>\n",
       "      <td>phoenix_park</td>\n",
       "      <td>0</td>\n",
       "      <td>0</td>\n",
       "    </tr>\n",
       "    <tr>\n",
       "      <th>1</th>\n",
       "      <td>2019-05-09 12:00:00</td>\n",
       "      <td>8.3</td>\n",
       "      <td>7.4</td>\n",
       "      <td>6.3</td>\n",
       "      <td>9.6</td>\n",
       "      <td>87.0</td>\n",
       "      <td>phoenix_park</td>\n",
       "      <td>0</td>\n",
       "      <td>1</td>\n",
       "    </tr>\n",
       "    <tr>\n",
       "      <th>2</th>\n",
       "      <td>2019-05-10 12:00:00</td>\n",
       "      <td>12.6</td>\n",
       "      <td>8.1</td>\n",
       "      <td>2.1</td>\n",
       "      <td>7.1</td>\n",
       "      <td>48.0</td>\n",
       "      <td>phoenix_park</td>\n",
       "      <td>0</td>\n",
       "      <td>2</td>\n",
       "    </tr>\n",
       "    <tr>\n",
       "      <th>3</th>\n",
       "      <td>2019-05-11 12:00:00</td>\n",
       "      <td>12.7</td>\n",
       "      <td>7.9</td>\n",
       "      <td>1.6</td>\n",
       "      <td>6.9</td>\n",
       "      <td>46.0</td>\n",
       "      <td>phoenix_park</td>\n",
       "      <td>0</td>\n",
       "      <td>3</td>\n",
       "    </tr>\n",
       "    <tr>\n",
       "      <th>4</th>\n",
       "      <td>2019-05-12 12:00:00</td>\n",
       "      <td>14.6</td>\n",
       "      <td>10.6</td>\n",
       "      <td>6.4</td>\n",
       "      <td>9.6</td>\n",
       "      <td>57.0</td>\n",
       "      <td>phoenix_park</td>\n",
       "      <td>0</td>\n",
       "      <td>4</td>\n",
       "    </tr>\n",
       "    <tr>\n",
       "      <th>...</th>\n",
       "      <td>...</td>\n",
       "      <td>...</td>\n",
       "      <td>...</td>\n",
       "      <td>...</td>\n",
       "      <td>...</td>\n",
       "      <td>...</td>\n",
       "      <td>...</td>\n",
       "      <td>...</td>\n",
       "      <td>...</td>\n",
       "    </tr>\n",
       "    <tr>\n",
       "      <th>23995</th>\n",
       "      <td>2022-01-24 12:00:00</td>\n",
       "      <td>5.4</td>\n",
       "      <td>5.2</td>\n",
       "      <td>4.9</td>\n",
       "      <td>8.7</td>\n",
       "      <td>97.0</td>\n",
       "      <td>knock_airport</td>\n",
       "      <td>23</td>\n",
       "      <td>995</td>\n",
       "    </tr>\n",
       "    <tr>\n",
       "      <th>23996</th>\n",
       "      <td>2022-01-26 12:00:00</td>\n",
       "      <td>7.9</td>\n",
       "      <td>7.6</td>\n",
       "      <td>7.3</td>\n",
       "      <td>10.2</td>\n",
       "      <td>96.0</td>\n",
       "      <td>knock_airport</td>\n",
       "      <td>23</td>\n",
       "      <td>996</td>\n",
       "    </tr>\n",
       "    <tr>\n",
       "      <th>23997</th>\n",
       "      <td>2022-01-28 12:00:00</td>\n",
       "      <td>9.6</td>\n",
       "      <td>9.1</td>\n",
       "      <td>8.6</td>\n",
       "      <td>11.2</td>\n",
       "      <td>93.0</td>\n",
       "      <td>knock_airport</td>\n",
       "      <td>23</td>\n",
       "      <td>997</td>\n",
       "    </tr>\n",
       "    <tr>\n",
       "      <th>23998</th>\n",
       "      <td>2022-01-30 12:00:00</td>\n",
       "      <td>5.3</td>\n",
       "      <td>5.3</td>\n",
       "      <td>5.3</td>\n",
       "      <td>8.9</td>\n",
       "      <td>100.0</td>\n",
       "      <td>knock_airport</td>\n",
       "      <td>23</td>\n",
       "      <td>998</td>\n",
       "    </tr>\n",
       "    <tr>\n",
       "      <th>23999</th>\n",
       "      <td>2022-01-31 12:00:00</td>\n",
       "      <td>7.8</td>\n",
       "      <td>6.4</td>\n",
       "      <td>4.6</td>\n",
       "      <td>8.5</td>\n",
       "      <td>80.0</td>\n",
       "      <td>knock_airport</td>\n",
       "      <td>23</td>\n",
       "      <td>999</td>\n",
       "    </tr>\n",
       "  </tbody>\n",
       "</table>\n",
       "<p>24000 rows × 9 columns</p>\n",
       "</div>"
      ],
      "text/plain": [
       "                     date  temp  wetb  dewpt  vappr   rhum        station  \\\n",
       "0     2019-05-08 12:00:00   7.9   6.7    5.3    8.9   83.0   phoenix_park   \n",
       "1     2019-05-09 12:00:00   8.3   7.4    6.3    9.6   87.0   phoenix_park   \n",
       "2     2019-05-10 12:00:00  12.6   8.1    2.1    7.1   48.0   phoenix_park   \n",
       "3     2019-05-11 12:00:00  12.7   7.9    1.6    6.9   46.0   phoenix_park   \n",
       "4     2019-05-12 12:00:00  14.6  10.6    6.4    9.6   57.0   phoenix_park   \n",
       "...                   ...   ...   ...    ...    ...    ...            ...   \n",
       "23995 2022-01-24 12:00:00   5.4   5.2    4.9    8.7   97.0  knock_airport   \n",
       "23996 2022-01-26 12:00:00   7.9   7.6    7.3   10.2   96.0  knock_airport   \n",
       "23997 2022-01-28 12:00:00   9.6   9.1    8.6   11.2   93.0  knock_airport   \n",
       "23998 2022-01-30 12:00:00   5.3   5.3    5.3    8.9  100.0  knock_airport   \n",
       "23999 2022-01-31 12:00:00   7.8   6.4    4.6    8.5   80.0  knock_airport   \n",
       "\n",
       "       series_idx  time_idx  \n",
       "0               0         0  \n",
       "1               0         1  \n",
       "2               0         2  \n",
       "3               0         3  \n",
       "4               0         4  \n",
       "...           ...       ...  \n",
       "23995          23       995  \n",
       "23996          23       996  \n",
       "23997          23       997  \n",
       "23998          23       998  \n",
       "23999          23       999  \n",
       "\n",
       "[24000 rows x 9 columns]"
      ]
     },
     "execution_count": 158,
     "metadata": {},
     "output_type": "execute_result"
    }
   ],
   "source": [
    "data = big_df(stations)\n",
    "data"
   ]
  },
  {
   "cell_type": "code",
   "execution_count": 159,
   "id": "9cac8601",
   "metadata": {
    "pycharm": {
     "name": "#%%\n"
    }
   },
   "outputs": [],
   "source": [
    "data.to_csv(\"data.csv\")"
   ]
  },
  {
   "cell_type": "code",
   "execution_count": 170,
   "id": "3fa5b890",
   "metadata": {
    "pycharm": {
     "name": "#%%\n"
    }
   },
   "outputs": [],
   "source": [
    "(hourly_df(features_df(convert_to_dt(import_df(\"stations/275_mace_head.csv\"))))[-1000:]).to_csv(\"test.csv\")"
   ]
  },
  {
   "cell_type": "code",
   "execution_count": null,
   "id": "695826a5",
   "metadata": {
    "pycharm": {
     "name": "#%%\n"
    }
   },
   "outputs": [],
   "source": []
  }
 ],
 "metadata": {
  "kernelspec": {
   "display_name": "Python 3 (ipykernel)",
   "language": "python",
   "name": "python3"
  },
  "language_info": {
   "codemirror_mode": {
    "name": "ipython",
    "version": 3
   },
   "file_extension": ".py",
   "mimetype": "text/x-python",
   "name": "python",
   "nbconvert_exporter": "python",
   "pygments_lexer": "ipython3",
   "version": "3.8.10"
  }
 },
 "nbformat": 4,
 "nbformat_minor": 5
}